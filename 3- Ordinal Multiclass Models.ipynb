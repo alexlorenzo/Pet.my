{
 "cells": [
  {
   "cell_type": "markdown",
   "metadata": {},
   "source": [
    "# Kaggle Competition: MultiClass classification"
   ]
  },
  {
   "cell_type": "markdown",
   "metadata": {
    "ExecuteTime": {
     "end_time": "2019-02-24T20:07:47.407694Z",
     "start_time": "2019-02-24T20:07:47.400689Z"
    }
   },
   "source": [
    "<img src=\"https://octodex.github.com/images/octocat-de-los-muertos.jpg\" alt=\"Cat\" title=\"Cat\" width=\"350\" height=\"200\" />\n",
    "*(image from octodex github)*"
   ]
  },
  {
   "cell_type": "markdown",
   "metadata": {
    "ExecuteTime": {
     "end_time": "2019-02-26T21:53:27.379151Z",
     "start_time": "2019-02-26T21:53:27.372148Z"
    }
   },
   "source": [
    "**We will first use the dataset training, metadata image and sentiment data to predict the Adoption Speed**"
   ]
  },
  {
   "cell_type": "code",
   "execution_count": 2,
   "metadata": {
    "ExecuteTime": {
     "end_time": "2019-03-06T22:45:49.584078Z",
     "start_time": "2019-03-06T22:45:38.976121Z"
    }
   },
   "outputs": [],
   "source": [
    "import pandas as pd\n",
    "import seaborn as sns\n",
    "import matplotlib.pyplot as plt\n",
    "from collections import Counter\n",
    "from functools import partial\n",
    "from math import sqrt\n",
    "\n",
    "# LightGBM\n",
    "import lightgbm as lgb\n",
    "import scipy as sp\n",
    "\n",
    "# Load scikit's classifier library\n",
    "from sklearn.model_selection import train_test_split\n",
    "from sklearn.model_selection import GridSearchCV, StratifiedKFold,RandomizedSearchCV\n",
    "from sklearn.feature_selection import SelectFromModel\n",
    "\n",
    "from sklearn.metrics import cohen_kappa_score,mean_squared_error, accuracy_score, confusion_matrix, f1_score,classification_report\n",
    "\n",
    "import xgboost as xgb\n",
    "\n",
    "#Oversampling\n",
    "from imblearn.over_sampling import RandomOverSampler\n",
    "from sklearn.decomposition import PCA"
   ]
  },
  {
   "cell_type": "markdown",
   "metadata": {},
   "source": [
    "## Data Preparation "
   ]
  },
  {
   "cell_type": "code",
   "execution_count": 3,
   "metadata": {
    "ExecuteTime": {
     "end_time": "2019-03-06T22:45:50.143343Z",
     "start_time": "2019-03-06T22:45:49.597043Z"
    }
   },
   "outputs": [],
   "source": [
    "#Load Data\n",
    "train =pd.read_csv(r'C:\\Users\\alexandra\\Documents\\Kaggle\\train_features.csv',index_col=0)"
   ]
  },
  {
   "cell_type": "code",
   "execution_count": 4,
   "metadata": {
    "ExecuteTime": {
     "end_time": "2019-03-06T22:45:50.215445Z",
     "start_time": "2019-03-06T22:45:50.204432Z"
    }
   },
   "outputs": [
    {
     "data": {
      "text/plain": [
       "Index(['Quantity', 'Fee', 'VideoAmt', 'PetID', 'PhotoAmt', 'AdoptionSpeed',\n",
       "       'sentiment_document_score', 'sentiment_document_magnitude',\n",
       "       'metadata_topicality_max', 'metadata_topicality_mean',\n",
       "       ...\n",
       "       'MaturitySize_4', 'Sterilized_1', 'Sterilized_2', 'Sterilized_3',\n",
       "       'Vaccinated_1', 'Vaccinated_2', 'Vaccinated_3', 'FurLength_1',\n",
       "       'FurLength_2', 'FurLength_3'],\n",
       "      dtype='object', length=116)"
      ]
     },
     "execution_count": 4,
     "metadata": {},
     "output_type": "execute_result"
    }
   ],
   "source": [
    "train.columns"
   ]
  },
  {
   "cell_type": "code",
   "execution_count": 5,
   "metadata": {
    "ExecuteTime": {
     "end_time": "2019-03-06T22:45:50.337532Z",
     "start_time": "2019-03-06T22:45:50.286448Z"
    }
   },
   "outputs": [
    {
     "data": {
      "text/html": [
       "<div>\n",
       "<style scoped>\n",
       "    .dataframe tbody tr th:only-of-type {\n",
       "        vertical-align: middle;\n",
       "    }\n",
       "\n",
       "    .dataframe tbody tr th {\n",
       "        vertical-align: top;\n",
       "    }\n",
       "\n",
       "    .dataframe thead th {\n",
       "        text-align: right;\n",
       "    }\n",
       "</style>\n",
       "<table border=\"1\" class=\"dataframe\">\n",
       "  <thead>\n",
       "    <tr style=\"text-align: right;\">\n",
       "      <th></th>\n",
       "      <th>Quantity</th>\n",
       "      <th>Fee</th>\n",
       "      <th>VideoAmt</th>\n",
       "      <th>PetID</th>\n",
       "      <th>PhotoAmt</th>\n",
       "      <th>AdoptionSpeed</th>\n",
       "      <th>sentiment_document_score</th>\n",
       "      <th>sentiment_document_magnitude</th>\n",
       "      <th>metadata_topicality_max</th>\n",
       "      <th>metadata_topicality_mean</th>\n",
       "      <th>...</th>\n",
       "      <th>MaturitySize_4</th>\n",
       "      <th>Sterilized_1</th>\n",
       "      <th>Sterilized_2</th>\n",
       "      <th>Sterilized_3</th>\n",
       "      <th>Vaccinated_1</th>\n",
       "      <th>Vaccinated_2</th>\n",
       "      <th>Vaccinated_3</th>\n",
       "      <th>FurLength_1</th>\n",
       "      <th>FurLength_2</th>\n",
       "      <th>FurLength_3</th>\n",
       "    </tr>\n",
       "  </thead>\n",
       "  <tbody>\n",
       "    <tr>\n",
       "      <th>0</th>\n",
       "      <td>1</td>\n",
       "      <td>100</td>\n",
       "      <td>0</td>\n",
       "      <td>86e1089a3</td>\n",
       "      <td>1.0</td>\n",
       "      <td>2</td>\n",
       "      <td>0.3</td>\n",
       "      <td>2.4</td>\n",
       "      <td>0.990786</td>\n",
       "      <td>0.830798</td>\n",
       "      <td>...</td>\n",
       "      <td>0</td>\n",
       "      <td>0</td>\n",
       "      <td>1</td>\n",
       "      <td>0</td>\n",
       "      <td>0</td>\n",
       "      <td>1</td>\n",
       "      <td>0</td>\n",
       "      <td>1</td>\n",
       "      <td>0</td>\n",
       "      <td>0</td>\n",
       "    </tr>\n",
       "  </tbody>\n",
       "</table>\n",
       "<p>1 rows × 116 columns</p>\n",
       "</div>"
      ],
      "text/plain": [
       "   Quantity  Fee  VideoAmt      PetID  PhotoAmt  AdoptionSpeed  \\\n",
       "0         1  100         0  86e1089a3       1.0              2   \n",
       "\n",
       "   sentiment_document_score  sentiment_document_magnitude  \\\n",
       "0                       0.3                           2.4   \n",
       "\n",
       "   metadata_topicality_max  metadata_topicality_mean     ...       \\\n",
       "0                 0.990786                  0.830798     ...        \n",
       "\n",
       "   MaturitySize_4  Sterilized_1  Sterilized_2  Sterilized_3  Vaccinated_1  \\\n",
       "0               0             0             1             0             0   \n",
       "\n",
       "   Vaccinated_2  Vaccinated_3  FurLength_1  FurLength_2  FurLength_3  \n",
       "0             1             0            1            0            0  \n",
       "\n",
       "[1 rows x 116 columns]"
      ]
     },
     "execution_count": 5,
     "metadata": {},
     "output_type": "execute_result"
    }
   ],
   "source": [
    "train.head(1)"
   ]
  },
  {
   "cell_type": "markdown",
   "metadata": {},
   "source": [
    "## Train/Test/Validation Sets"
   ]
  },
  {
   "cell_type": "markdown",
   "metadata": {},
   "source": [
    "We are going to use 75% of the data for training and the remaining 20% to test the model. \n",
    "We will tune the hyperparameters using cross validation datasets. "
   ]
  },
  {
   "cell_type": "code",
   "execution_count": 6,
   "metadata": {
    "ExecuteTime": {
     "end_time": "2019-03-06T22:52:27.893460Z",
     "start_time": "2019-03-06T22:52:27.833466Z"
    }
   },
   "outputs": [],
   "source": [
    "#Extracting Features and Output\n",
    "ids=train[['PetID']]\n",
    "train_analysis=train.drop(['PetID'],axis=1)\n",
    "\n",
    "X, y = train_analysis.loc[:, train_analysis.columns != 'AdoptionSpeed'], train_analysis['AdoptionSpeed']\n",
    "\n",
    "X_train, X_test, y_train, y_test = train_test_split(X, y, test_size=0.25, random_state=1, stratify=y)\n",
    "#X_train, X_val, y_train, y_val = train_test_split(X_train, y_train, test_size=0.2, random_state=1)"
   ]
  },
  {
   "cell_type": "code",
   "execution_count": 7,
   "metadata": {
    "ExecuteTime": {
     "end_time": "2019-03-06T22:45:51.367701Z",
     "start_time": "2019-03-06T22:45:50.700588Z"
    }
   },
   "outputs": [
    {
     "data": {
      "image/png": "[encoded data removed]",
      "text/plain": [
       "<Figure size 1080x432 with 2 Axes>"
      ]
     },
     "metadata": {
      "needs_background": "light"
     },
     "output_type": "display_data"
    }
   ],
   "source": [
    "plt.subplot(1, 2, 1)\n",
    "prob_train  =y_train.value_counts(normalize=True)\n",
    "prob_train.plot(kind='barh',figsize =(20,6))\n",
    "plt.title('Adoption Speed Repartition for the Training Set (75% Data)')\n",
    "plt.subplot(1, 2, 2)\n",
    "\n",
    "prob  =y_test.value_counts(normalize=True)\n",
    "prob.plot(kind='barh', figsize =(15,6))\n",
    "plt.title('Adoption Speed Repartition for the Test Set (25% Data)')\n",
    "plt.show()"
   ]
  },
  {
   "cell_type": "markdown",
   "metadata": {},
   "source": [
    "## Evaluation with Quadratic Weighted Kappa"
   ]
  },
  {
   "cell_type": "code",
   "execution_count": 8,
   "metadata": {
    "ExecuteTime": {
     "end_time": "2019-03-06T22:46:00.733574Z",
     "start_time": "2019-03-06T22:46:00.715564Z"
    }
   },
   "outputs": [],
   "source": [
    "# FROM: https://www.kaggle.com/myltykritik/simple-lgbm-image-features\n",
    "\n",
    "# The following 3 functions have been taken from Ben Hamner's github repository\n",
    "# https://github.com/benhamner/Metrics\n",
    "def confusion_matrix(rater_a, rater_b, min_rating=None, max_rating=None):\n",
    "    \"\"\"\n",
    "    Returns the confusion matrix between rater's ratings\n",
    "    \"\"\"\n",
    "    assert(len(rater_a) == len(rater_b))\n",
    "    if min_rating is None:\n",
    "        min_rating = min(rater_a + rater_b)\n",
    "    if max_rating is None:\n",
    "        max_rating = max(rater_a + rater_b)\n",
    "    num_ratings = int(max_rating - min_rating + 1)\n",
    "    conf_mat = [[0 for i in range(num_ratings)]\n",
    "                for j in range(num_ratings)]\n",
    "    for a, b in zip(rater_a, rater_b):\n",
    "        conf_mat[a - min_rating][b - min_rating] += 1\n",
    "    return conf_mat\n",
    "\n",
    "\n",
    "def histogram(ratings, min_rating=None, max_rating=None):\n",
    "    \"\"\"\n",
    "    Returns the counts of each type of rating that a rater made\n",
    "    \"\"\"\n",
    "    if min_rating is None:\n",
    "        min_rating = min(ratings)\n",
    "    if max_rating is None:\n",
    "        max_rating = max(ratings)\n",
    "    num_ratings = int(max_rating - min_rating + 1)\n",
    "    hist_ratings = [0 for x in range(num_ratings)]\n",
    "    for r in ratings:\n",
    "        hist_ratings[r - min_rating] += 1\n",
    "    return hist_ratings\n",
    "\n",
    "\n",
    "def quadratic_weighted_kappa(y, y_pred):\n",
    "    \"\"\"\n",
    "    Calculates the quadratic weighted kappa\n",
    "    axquadratic_weighted_kappa calculates the quadratic weighted kappa\n",
    "    value, which is a measure of inter-rater agreement between two raters\n",
    "    that provide discrete numeric ratings.  Potential values range from -1\n",
    "    (representing complete disagreement) to 1 (representing complete\n",
    "    agreement).  A kappa value of 0 is expected if all agreement is due to\n",
    "    chance.\n",
    "    quadratic_weighted_kappa(rater_a, rater_b), where rater_a and rater_b\n",
    "    each correspond to a list of integer ratings.  These lists must have the\n",
    "    same length.\n",
    "    The ratings should be integers, and it is assumed that they contain\n",
    "    the complete range of possible ratings.\n",
    "    quadratic_weighted_kappa(X, min_rating, max_rating), where min_rating\n",
    "    is the minimum possible rating, and max_rating is the maximum possible\n",
    "    rating\n",
    "    \"\"\"\n",
    "    rater_a = y\n",
    "    rater_b = y_pred\n",
    "    min_rating=None\n",
    "    max_rating=None\n",
    "    rater_a = np.array(rater_a, dtype=int)\n",
    "    rater_b = np.array(rater_b, dtype=int)\n",
    "    assert(len(rater_a) == len(rater_b))\n",
    "    \n",
    "    if min_rating is None:\n",
    "        min_rating = min(min(rater_a), min(rater_b))\n",
    "    if max_rating is None:\n",
    "        max_rating = max(max(rater_a), max(rater_b))\n",
    "    conf_mat = confusion_matrix(rater_a, rater_b,\n",
    "                                min_rating, max_rating)\n",
    "    num_ratings = len(conf_mat)\n",
    "    num_scored_items = float(len(rater_a))\n",
    "\n",
    "    hist_rater_a = histogram(rater_a, min_rating, max_rating)\n",
    "    hist_rater_b = histogram(rater_b, min_rating, max_rating)\n",
    "\n",
    "    numerator = 0.0\n",
    "    denominator = 0.0\n",
    "\n",
    "    for i in range(num_ratings):\n",
    "        for j in range(num_ratings):\n",
    "            expected_count = (hist_rater_a[i] * hist_rater_b[j]\n",
    "                              / num_scored_items)\n",
    "            d = pow(i - j, 2.0) / pow(num_ratings - 1, 2.0)\n",
    "            numerator += d * conf_mat[i][j] / num_scored_items\n",
    "            denominator += d * expected_count / num_scored_items\n",
    "\n",
    "    return (1.0 - numerator / denominator)\n"
   ]
  },
  {
   "cell_type": "markdown",
   "metadata": {},
   "source": [
    "## Optimized Boundaries"
   ]
  },
  {
   "cell_type": "code",
   "execution_count": 10,
   "metadata": {
    "ExecuteTime": {
     "end_time": "2019-03-06T22:46:01.594010Z",
     "start_time": "2019-03-06T22:46:01.581997Z"
    }
   },
   "outputs": [],
   "source": [
    "class OptimizedRounder(object):\n",
    "    def __init__(self):\n",
    "        self.coef_ = 0\n",
    "\n",
    "    def _kappa_loss(self, coef, X, y):\n",
    "        X_p = np.copy(X)\n",
    "        for i, pred in enumerate(X_p):\n",
    "            if pred < coef[0]:\n",
    "                X_p[i] = 0\n",
    "            elif pred >= coef[0] and pred < coef[1]:\n",
    "                X_p[i] = 1\n",
    "            elif pred >= coef[1] and pred < coef[2]:\n",
    "                X_p[i] = 2\n",
    "            elif pred >= coef[2] and pred < coef[3]:\n",
    "                X_p[i] = 3\n",
    "            else:\n",
    "                X_p[i] = 4\n",
    "\n",
    "        ll = quadratic_weighted_kappa(y, X_p)\n",
    "        return -ll\n",
    "\n",
    "    def fit(self, X, y):\n",
    "        loss_partial = partial(self._kappa_loss, X=X, y=y)\n",
    "        initial_coef = [0.6, 1.7, 2.6, 3.6]\n",
    "        self.coef_ = sp.optimize.minimize(loss_partial, initial_coef, method='nelder-mead')\n",
    "\n",
    "    def predict(self, X, coef):\n",
    "        X_p = np.copy(X)\n",
    "        for i, pred in enumerate(X_p):\n",
    "            if pred < coef[0]:\n",
    "                X_p[i] = 0\n",
    "            elif pred >= coef[0] and pred < coef[1]:\n",
    "                X_p[i] = 1\n",
    "            elif pred >= coef[1] and pred < coef[2]:\n",
    "                X_p[i] = 2\n",
    "            elif pred >= coef[2] and pred < coef[3]:\n",
    "                X_p[i] = 3\n",
    "            else:\n",
    "                X_p[i] = 4\n",
    "        return X_p\n",
    "\n",
    "    def coefficients(self):\n",
    "        return self.coef_['x']\n",
    "    \n",
    "def rmse(actual, predicted):\n",
    "    return sqrt(mean_squared_error(actual, predicted))"
   ]
  },
  {
   "cell_type": "markdown",
   "metadata": {},
   "source": [
    "## Cross Validation"
   ]
  },
  {
   "cell_type": "markdown",
   "metadata": {},
   "source": [
    "In a first step we divide our data into a training(75% of Data) and a testing set (25% of Data). To tune the hyperparameter and avoid overfitting we used the technique of Cross Validation (CV). For K-Fold CV, we further split our training set into K number of subsets, called folds.We then iteratively fit the model K times, each time training the data on K-1 of the folds and evaluating on the Kth fold. For hyperparameter tuning, we perform many iterations of the entire K-Fold CV process, each time using different model settings. We then compare all of the models, select the best one! At the very end of training, we average the performance on each of the folds to come up with final validation metrics for the model."
   ]
  },
  {
   "cell_type": "markdown",
   "metadata": {
    "ExecuteTime": {
     "end_time": "2019-03-06T12:38:42.848081Z",
     "start_time": "2019-03-06T12:38:42.840086Z"
    }
   },
   "source": [
    "<img src=\"https://i.imgur.com/amekoez.jpg\" alt=\"Cat\" title=\"Cat\" width=\"700\" height=\"500\" />"
   ]
  },
  {
   "cell_type": "code",
   "execution_count": 12,
   "metadata": {
    "ExecuteTime": {
     "end_time": "2019-03-06T22:51:04.183919Z",
     "start_time": "2019-03-06T22:51:04.169917Z"
    }
   },
   "outputs": [],
   "source": [
    "def cross_val(model,X_train,y_train):\n",
    "    X = X_train\n",
    "    y = y_train\n",
    "    coeff = np.empty((1,4))\n",
    "    cv_scores=[]\n",
    "    fold=1\n",
    "    skf = StratifiedKFold(n_splits=5, random_state=42, shuffle=True)\n",
    "    print(skf.get_n_splits(X, y))\n",
    "\n",
    "    for train_index, val_index in skf.split(X, y):\n",
    "        xtrain, xvalid = X[train_index], X[val_index]\n",
    "        ytrain, yvalid = y[train_index], y[val_index]\n",
    "\n",
    "        model.fit(\n",
    "            xtrain, ytrain,\n",
    "            eval_set=[(xvalid, yvalid)],\n",
    "            verbose=100,\n",
    "            early_stopping_rounds=100\n",
    "        )\n",
    "\n",
    "        #model.fit(xtrain, ytrain)\n",
    "        valid_preds = model.predict(xvalid, num_iteration=model.best_iteration_)\n",
    "        yvalid = np.array(yvalid).tolist()\n",
    "        optR = OptimizedRounder()\n",
    "        optR.fit(valid_preds, yvalid)\n",
    "\n",
    "        coefficients = optR.coefficients()\n",
    "        valid_p = optR.predict(valid_preds, coefficients)\n",
    "\n",
    "        scr = quadratic_weighted_kappa(yvalid, valid_p)\n",
    "        cv_scores.append(scr)\n",
    "\n",
    "        print(\"QWK = {}. Coef = {}\".format(scr, coefficients))\n",
    "        coefficients.reshape((4, 1))\n",
    "\n",
    "        coeff = np.vstack([coeff, coefficients])\n",
    "        fold += 1\n",
    "\n",
    "\n",
    "    coeff = np.delete(coeff, (0), axis=0)\n",
    "    global coefficient_mean\n",
    "    coefficient_mean = coeff.mean(axis=0)\n",
    "    print(\"Coef Mean ={}\".format(coefficient_mean))"
   ]
  },
  {
   "cell_type": "markdown",
   "metadata": {},
   "source": [
    "## Features Selection"
   ]
  },
  {
   "cell_type": "markdown",
   "metadata": {
    "ExecuteTime": {
     "end_time": "2019-02-25T19:55:39.168660Z",
     "start_time": "2019-02-25T19:55:39.162658Z"
    },
    "collapsed": true
   },
   "source": [
    "Select the features by examining only the training set and avoid overfitting (using LightGBM)"
   ]
  },
  {
   "cell_type": "code",
   "execution_count": 14,
   "metadata": {
    "ExecuteTime": {
     "end_time": "2019-03-06T22:46:10.162178Z",
     "start_time": "2019-03-06T22:46:06.669759Z"
    }
   },
   "outputs": [
    {
     "data": {
      "image/png": "[encoded data removed]",
      "text/plain": [
       "<Figure size 720x1224 with 1 Axes>"
      ]
     },
     "metadata": {
      "needs_background": "light"
     },
     "output_type": "display_data"
    }
   ],
   "source": [
    "model = lgb.LGBMRegressor()\n",
    "model.fit(X_train, y_train)\n",
    "\n",
    "feature_imp = pd.DataFrame(sorted(zip(model.feature_importances_,X_train.columns)), columns=['Value','Feature'])\n",
    "\n",
    "plt.figure(figsize=(10, 17))\n",
    "sns.barplot(x=\"Value\", y=\"Feature\", data=feature_imp.sort_values(by=\"Value\", ascending=False))\n",
    "plt.title('LightGBM Features')\n",
    "plt.tight_layout()\n",
    "plt.show()\n",
    "\n",
    "\n",
    "features_selection = SelectFromModel(model, threshold='1.25*median') # The Threshold is the median of features importance*1.25 \n",
    "features_selection.fit(X_train, y_train)\n",
    "\n",
    "\n",
    "features_selection_support = features_selection.get_support()\n",
    "features_selection = X_train.loc[:,features_selection_support].columns.tolist()"
   ]
  },
  {
   "cell_type": "code",
   "execution_count": 15,
   "metadata": {
    "ExecuteTime": {
     "end_time": "2019-03-06T22:54:42.148424Z",
     "start_time": "2019-03-06T22:54:42.136424Z"
    }
   },
   "outputs": [],
   "source": [
    "X_train =X_train.loc[:,features_selection]\n",
    "X_test =X_test.loc[:,features_selection]"
   ]
  },
  {
   "cell_type": "markdown",
   "metadata": {},
   "source": [
    "## Oversampling"
   ]
  },
  {
   "cell_type": "code",
   "execution_count": 16,
   "metadata": {},
   "outputs": [
    {
     "name": "stdout",
     "output_type": "stream",
     "text": [
      "Original dataset shape Counter({4: 3148, 2: 3028, 3: 2444, 1: 2317, 0: 307})\n",
      "Resampled dataset shape Counter({4: 3148, 2: 3028, 3: 2444, 1: 2317, 0: 1000})\n"
     ]
    }
   ],
   "source": [
    "print('Original dataset shape %s' % Counter(y_train))\n",
    "\n",
    "sampling_strategy= {4: 3148, 2: 3028, 3: 2444, 1: 2317, 0: 1000}\n",
    "ros = RandomOverSampler(sampling_strategy= sampling_strategy, random_state=42)\n",
    "\n",
    "X_res, y_res = ros.fit_resample(X_train, y_train)\n",
    "print('Resampled dataset shape %s' % Counter(y_res))"
   ]
  },
  {
   "cell_type": "code",
   "execution_count": 17,
   "metadata": {},
   "outputs": [
    {
     "name": "stderr",
     "output_type": "stream",
     "text": [
      "C:\\Users\\alexandra\\Anaconda3\\lib\\site-packages\\sklearn\\preprocessing\\data.py:323: DataConversionWarning: Data with input dtype int64, float64 were all converted to float64 by MinMaxScaler.\n",
      "  return self.partial_fit(X, y)\n"
     ]
    },
    {
     "data": {
      "image/png": "[encoded data removed]",
      "text/plain": [
       "<Figure size 432x288 with 2 Axes>"
      ]
     },
     "metadata": {
      "needs_background": "light"
     },
     "output_type": "display_data"
    }
   ],
   "source": [
    "from sklearn import preprocessing\n",
    "\n",
    "min_max_scaler = preprocessing.MinMaxScaler()\n",
    "X_scaled = min_max_scaler.fit_transform(X_train)\n",
    "X_res_scaled = min_max_scaler.fit_transform(X_res)\n",
    "\n",
    "# Instanciate a PCA object for the sake of easy visualisation\n",
    "pca = PCA(n_components=2)\n",
    "# Fit and transform x to visualise inside a 2D feature space\n",
    "X_vis = pca.fit_transform(X_scaled)\n",
    "X_res_vis = pca.transform(X_res_scaled)\n",
    "\n",
    "plt.figure()\n",
    "\n",
    "# sp1\n",
    "plt.subplot(121)\n",
    "plt.scatter(X_vis[y_train == 0, 0],  X_vis[y_train == 0, 1],  c=\"navy\", alpha=0.5,label=\"Class 0\")\n",
    "plt.legend(loc='upper left')\n",
    "\n",
    "plt.subplot(122)\n",
    "plt.scatter(X_res_vis[y_res == 0, 0],  X_res_vis[y_res == 0, 1],  c=\"navy\", alpha=0.5,label=\"Class 0\")\n",
    "\n",
    "plt.legend(loc='upper left')\n",
    "plt.show()"
   ]
  },
  {
   "cell_type": "markdown",
   "metadata": {},
   "source": [
    "## Modelisation"
   ]
  },
  {
   "cell_type": "markdown",
   "metadata": {},
   "source": [
    "In a first step we divide our data into a training(75% of Data) and a testing set (25% of Data). To tune the hyperparameter and avoid overfitting we used the technique of Cross Validation (CV). For K-Fold CV, we further split our training set into K number of subsets, called folds.We then iteratively fit the model K times, each time training the data on K-1 of the folds and evaluating on the Kth fold. For hyperparameter tuning, we perform many iterations of the entire K-Fold CV process, each time using different model settings. We then compare all of the models, select the best one! At the very end of training, we average the performance on each of the folds to come up with final validation metrics for the model."
   ]
  },
  {
   "cell_type": "markdown",
   "metadata": {},
   "source": [
    "### Evaluation with Cohen Kappa measure"
   ]
  },
  {
   "cell_type": "code",
   "execution_count": 18,
   "metadata": {
    "ExecuteTime": {
     "end_time": "2019-03-06T22:46:47.037391Z",
     "start_time": "2019-03-06T22:46:47.029389Z"
    }
   },
   "outputs": [],
   "source": [
    "def evaluate(y_pred, y_true):\n",
    "  \n",
    "    cohen_kappa= cohen_kappa_score(y_true, y_pred)\n",
    "    accuracy=accuracy_score(y_true,y_pred)\n",
    "    f1=f1_score(y_true,y_pred,average='micro')\n",
    "    classification=classification_report(y_true,y_pred)\n",
    "    \n",
    "    #Confusion Matrix\n",
    "    cm = confusion_matrix(y_true, y_pred)\n",
    "    plt.figure(figsize=(20,6))\n",
    "    \n",
    "    sns.heatmap(cm, annot=True)\n",
    "    plt.title('Confusion matrix')\n",
    "    plt.figure(figsize = (5,4))\n",
    "    plt.show()\n",
    "    #Evaluation Metrics\n",
    "    print('Cohen Kappa: {:0.2f}.'.format(cohen_kappa))\n",
    "    print('Accuracy Score: {:0.2f}%.'.format(accuracy))\n",
    "    print('F1 Score: {:0.2f}%.'.format(f1))\n",
    "    "
   ]
  },
  {
   "cell_type": "markdown",
   "metadata": {},
   "source": [
    "More information on parameters tuning in: https://www.analyticsvidhya.com/blog/2016/03/complete-guide-parameter-tuning-xgboost-with-codes-python/"
   ]
  },
  {
   "cell_type": "markdown",
   "metadata": {},
   "source": [
    "## LightGBM Regressor"
   ]
  },
  {
   "cell_type": "code",
   "execution_count": 13,
   "metadata": {
    "ExecuteTime": {
     "end_time": "2019-03-06T22:55:23.565541Z",
     "start_time": "2019-03-06T22:54:48.171058Z"
    }
   },
   "outputs": [
    {
     "ename": "NameError",
     "evalue": "name 'X_res' is not defined",
     "output_type": "error",
     "traceback": [
      "\u001b[1;31m---------------------------------------------------------------------------\u001b[0m",
      "\u001b[1;31mNameError\u001b[0m                                 Traceback (most recent call last)",
      "\u001b[1;32m<ipython-input-13-086211bbf600>\u001b[0m in \u001b[0;36m<module>\u001b[1;34m\u001b[0m\n\u001b[0;32m     18\u001b[0m \u001b[0mlgb_model\u001b[0m \u001b[1;33m=\u001b[0m \u001b[0mlgb\u001b[0m\u001b[1;33m.\u001b[0m\u001b[0mLGBMRegressor\u001b[0m\u001b[1;33m(\u001b[0m\u001b[1;33m**\u001b[0m\u001b[0mlgb_params\u001b[0m\u001b[1;33m)\u001b[0m\u001b[1;33m\u001b[0m\u001b[1;33m\u001b[0m\u001b[0m\n\u001b[0;32m     19\u001b[0m \u001b[1;33m\u001b[0m\u001b[0m\n\u001b[1;32m---> 20\u001b[1;33m \u001b[0mcross_val\u001b[0m\u001b[1;33m(\u001b[0m\u001b[0mlgb_model\u001b[0m\u001b[1;33m,\u001b[0m\u001b[0mX_res\u001b[0m\u001b[1;33m,\u001b[0m\u001b[0my_res\u001b[0m\u001b[1;33m)\u001b[0m\u001b[1;33m\u001b[0m\u001b[1;33m\u001b[0m\u001b[0m\n\u001b[0m\u001b[0;32m     21\u001b[0m \u001b[1;33m\u001b[0m\u001b[0m\n\u001b[0;32m     22\u001b[0m \u001b[1;31m#Prediction\u001b[0m\u001b[1;33m\u001b[0m\u001b[1;33m\u001b[0m\u001b[1;33m\u001b[0m\u001b[0m\n",
      "\u001b[1;31mNameError\u001b[0m: name 'X_res' is not defined"
     ]
    }
   ],
   "source": [
    "lgb_params = {\n",
    "'boosting_type': 'gbdt',\n",
    "'objective': 'regression',\n",
    "'learning_rate': 0.005,\n",
    "'subsample': .8,\n",
    "'colsample_bytree': 0.8,\n",
    "'min_split_gain': 0.006,\n",
    "'min_child_samples': 150,\n",
    "'min_child_weight': 0.1,\n",
    "'max_depth': 17,\n",
    "'n_estimators': 5000,\n",
    "'num_leaves': 80,\n",
    "'silent': -1,\n",
    "'verbose': -1,\n",
    "'max_depth': 11,\n",
    "'random_state': 2018\n",
    "}\n",
    "lgb_model = lgb.LGBMRegressor(**lgb_params)\n",
    "\n",
    "cross_val(lgb_model,X_res,y_res)\n",
    "\n",
    "#Prediction\n",
    "y_pred=lgb_model.predict(X_train.values)\n"
   ]
  },
  {
   "cell_type": "code",
   "execution_count": 58,
   "metadata": {
    "ExecuteTime": {
     "end_time": "2019-03-06T22:55:23.798530Z",
     "start_time": "2019-03-06T22:55:23.768531Z"
    }
   },
   "outputs": [
    {
     "data": {
      "text/plain": [
       "4    3496\n",
       "1    2840\n",
       "2    2437\n",
       "3    2194\n",
       "0     277\n",
       "Name: y_pred_class, dtype: int64"
      ]
     },
     "execution_count": 58,
     "metadata": {},
     "output_type": "execute_result"
    }
   ],
   "source": [
    "optR=OptimizedRounder()\n",
    "y_true = pd.DataFrame(y_train)\n",
    "y_true.reset_index(inplace=True,drop=False)\n",
    "\n",
    "predictions = optR.predict(y_pred, coefficient_mean).astype(int)\n",
    "pred_lgb = pd.concat([pd.DataFrame(y_pred),y_true,pd.DataFrame(predictions)],axis=1,ignore_index=True)\n",
    "pred_lgb.columns = ['y_pred_lgb','index','y_true','y_pred_class']\n",
    "\n",
    "pred_lgb['y_pred_class'].value_counts()"
   ]
  },
  {
   "cell_type": "code",
   "execution_count": 17,
   "metadata": {
    "ExecuteTime": {
     "end_time": "2019-03-06T22:55:24.356534Z",
     "start_time": "2019-03-06T22:55:23.986531Z"
    }
   },
   "outputs": [
    {
     "data": {
      "image/png": "[encoded data removed]",
      "text/plain": [
       "<Figure size 1440x432 with 2 Axes>"
      ]
     },
     "metadata": {
      "needs_background": "light"
     },
     "output_type": "display_data"
    },
    {
     "data": {
      "text/plain": [
       "<Figure size 360x288 with 0 Axes>"
      ]
     },
     "metadata": {},
     "output_type": "display_data"
    },
    {
     "name": "stdout",
     "output_type": "stream",
     "text": [
      "Cohen Kappa: 0.24.\n",
      "Accuracy Score: 0.42%.\n",
      "F1 Score: 0.42%.\n"
     ]
    }
   ],
   "source": [
    "evaluate(pred_lgb['y_pred_class'].tolist(), pred_lgb['y_true'].tolist())"
   ]
  },
  {
   "cell_type": "markdown",
   "metadata": {},
   "source": [
    "## XGBoost Regressor"
   ]
  },
  {
   "cell_type": "code",
   "execution_count": 89,
   "metadata": {
    "ExecuteTime": {
     "end_time": "2019-03-05T22:04:06.928373Z",
     "start_time": "2019-03-05T22:03:40.389190Z"
    },
    "scrolled": false
   },
   "outputs": [],
   "source": [
    "import xgboost\n",
    "\n",
    "xgb_model = xgboost.XGBRegressor(\n",
    "subsample= 0.8, \n",
    "silent= 1, \n",
    "objective= 'reg:linear', \n",
    "nthread= 4,\n",
    "n_estimators= 800,\n",
    "min_child_weight= 4,\n",
    "max_depth= 12,\n",
    "learning_rate= 0.01,\n",
    "colsample_bytree= 0.7)\n",
    "\n",
    "xgb_model.fit(X_res, y_res)\n",
    "\n",
    "#Prediction\n",
    "y_pred=xgb_model.predict(X_test.values)"
   ]
  },
  {
   "cell_type": "code",
   "execution_count": 90,
   "metadata": {},
   "outputs": [
    {
     "data": {
      "text/plain": [
       "3    1353\n",
       "2    1133\n",
       "4     694\n",
       "1     566\n",
       "0       3\n",
       "Name: y_pred_class, dtype: int64"
      ]
     },
     "execution_count": 90,
     "metadata": {},
     "output_type": "execute_result"
    }
   ],
   "source": [
    "optR=OptimizedRounder()\n",
    "y_true = pd.DataFrame(y_test)\n",
    "y_true.reset_index(inplace=True,drop=False)\n",
    "\n",
    "predictions = optR.predict(y_pred, coefficient_mean).astype(int)\n",
    "pred_xgb = pd.concat([pd.DataFrame(y_pred),y_true,pd.DataFrame(predictions)],axis=1,ignore_index=True)\n",
    "pred_xgb.columns = ['y_pred_xgb','index','y_true','y_pred_class']\n",
    "\n",
    "pred_xgb['y_pred_class'].value_counts()"
   ]
  },
  {
   "cell_type": "code",
   "execution_count": 91,
   "metadata": {},
   "outputs": [
    {
     "data": {
      "text/html": [
       "<div>\n",
       "<style scoped>\n",
       "    .dataframe tbody tr th:only-of-type {\n",
       "        vertical-align: middle;\n",
       "    }\n",
       "\n",
       "    .dataframe tbody tr th {\n",
       "        vertical-align: top;\n",
       "    }\n",
       "\n",
       "    .dataframe thead th {\n",
       "        text-align: right;\n",
       "    }\n",
       "</style>\n",
       "<table border=\"1\" class=\"dataframe\">\n",
       "  <thead>\n",
       "    <tr style=\"text-align: right;\">\n",
       "      <th></th>\n",
       "      <th>y_pred_xgb</th>\n",
       "      <th>index</th>\n",
       "      <th>y_true</th>\n",
       "      <th>y_pred_class</th>\n",
       "    </tr>\n",
       "  </thead>\n",
       "  <tbody>\n",
       "    <tr>\n",
       "      <th>0</th>\n",
       "      <td>3.013515</td>\n",
       "      <td>11484</td>\n",
       "      <td>0</td>\n",
       "      <td>4</td>\n",
       "    </tr>\n",
       "  </tbody>\n",
       "</table>\n",
       "</div>"
      ],
      "text/plain": [
       "   y_pred_xgb  index  y_true  y_pred_class\n",
       "0    3.013515  11484       0             4"
      ]
     },
     "execution_count": 91,
     "metadata": {},
     "output_type": "execute_result"
    }
   ],
   "source": [
    "pred_xgb.head(1)"
   ]
  },
  {
   "cell_type": "code",
   "execution_count": 92,
   "metadata": {},
   "outputs": [
    {
     "data": {
      "image/png": "[encoded data removed]",
      "text/plain": [
       "<Figure size 1440x432 with 2 Axes>"
      ]
     },
     "metadata": {
      "needs_background": "light"
     },
     "output_type": "display_data"
    },
    {
     "data": {
      "text/plain": [
       "<Figure size 360x288 with 0 Axes>"
      ]
     },
     "metadata": {},
     "output_type": "display_data"
    },
    {
     "name": "stdout",
     "output_type": "stream",
     "text": [
      "Cohen Kappa: 0.16.\n",
      "Accuracy Score: 0.37%.\n",
      "F1 Score: 0.37%.\n"
     ]
    }
   ],
   "source": [
    "evaluate(pred_xgb['y_pred_class'].tolist(), pred_xgb['y_true'].tolist())"
   ]
  },
  {
   "cell_type": "markdown",
   "metadata": {},
   "source": [
    "## Random Forest Regressor"
   ]
  },
  {
   "cell_type": "code",
   "execution_count": 86,
   "metadata": {},
   "outputs": [],
   "source": [
    "from sklearn.ensemble import RandomForestRegressor\n",
    "\n",
    "# Create the random grid\n",
    "#Use the random grid to search for best hyperparameters\n",
    "# First create the base model to tune\n",
    "rf_random = RandomForestRegressor(\n",
    "n_estimators= 300,\n",
    "min_samples_split= 2,\n",
    "min_samples_leaf= 1,\n",
    "max_features= 'auto',\n",
    "max_depth= 25,\n",
    "bootstrap= True)\n",
    "\n",
    "# Fit the random search model\n",
    "rf_random.fit(X_res, y_res)\n",
    "\n",
    "#Prediction\n",
    "y_pred=rf_random.predict(X_test.values)"
   ]
  },
  {
   "cell_type": "code",
   "execution_count": 87,
   "metadata": {},
   "outputs": [
    {
     "data": {
      "text/plain": [
       "3    1454\n",
       "2    1236\n",
       "4     563\n",
       "1     494\n",
       "0       2\n",
       "Name: y_pred_class, dtype: int64"
      ]
     },
     "execution_count": 87,
     "metadata": {},
     "output_type": "execute_result"
    }
   ],
   "source": [
    "optR=OptimizedRounder()\n",
    "y_true = pd.DataFrame(y_test)\n",
    "y_true.reset_index(inplace=True,drop=False)\n",
    "\n",
    "predictions = optR.predict(y_pred, coefficient_mean).astype(int)\n",
    "pred_rf = pd.concat([pd.DataFrame(y_pred),y_true,pd.DataFrame(predictions)],axis=1,ignore_index=True)\n",
    "pred_rf.columns = ['y_pred_rf','index','y_true','y_pred_class']\n",
    "\n",
    "pred_rf['y_pred_class'].value_counts()"
   ]
  },
  {
   "cell_type": "code",
   "execution_count": 88,
   "metadata": {},
   "outputs": [
    {
     "data": {
      "image/png": "[encoded data removed]",
      "text/plain": [
       "<Figure size 1440x432 with 2 Axes>"
      ]
     },
     "metadata": {
      "needs_background": "light"
     },
     "output_type": "display_data"
    },
    {
     "data": {
      "text/plain": [
       "<Figure size 360x288 with 0 Axes>"
      ]
     },
     "metadata": {},
     "output_type": "display_data"
    },
    {
     "name": "stdout",
     "output_type": "stream",
     "text": [
      "Cohen Kappa: 0.15.\n",
      "Accuracy Score: 0.35%.\n",
      "F1 Score: 0.35%.\n"
     ]
    }
   ],
   "source": [
    "evaluate(pred_rf['y_pred_class'].tolist(), pred_rf['y_true'].tolist())"
   ]
  },
  {
   "cell_type": "markdown",
   "metadata": {},
   "source": [
    "## Neural Network MLP"
   ]
  },
  {
   "cell_type": "code",
   "execution_count": 106,
   "metadata": {},
   "outputs": [
    {
     "name": "stderr",
     "output_type": "stream",
     "text": [
      "C:\\Users\\alexandra\\Anaconda3\\lib\\site-packages\\ipykernel_launcher.py:9: DataConversionWarning: Data with input dtype int64, float64 were all converted to float64 by StandardScaler.\n",
      "  if __name__ == '__main__':\n"
     ]
    }
   ],
   "source": [
    "from sklearn.preprocessing import StandardScaler  \n",
    "from sklearn.neural_network import MLPRegressor\n",
    "\n",
    "scaler = StandardScaler()  \n",
    "scaler.fit(X_res)  \n",
    "X_res_scaled = scaler.transform(X_res)  \n",
    "\n",
    "# apply same transformation to test data\n",
    "X_test_scaled = scaler.transform(X_test) \n",
    "\n",
    "nn = MLPRegressor(\n",
    "    hidden_layer_sizes=(100,),  activation='relu', solver='adam', alpha=0.001, batch_size='auto',\n",
    "    learning_rate='constant', learning_rate_init=0.01, power_t=0.5, max_iter=1000, shuffle=True,\n",
    "    random_state=9, tol=0.0001, verbose=False, warm_start=False, momentum=0.9, nesterovs_momentum=True,\n",
    "    early_stopping=False, validation_fraction=0.1, beta_1=0.9, beta_2=0.999, epsilon=1e-08)\n",
    "\n",
    "n = nn.fit(X_res_scaled, y_res)\n",
    "\n",
    "y_pred = nn.predict(X_test_scaled)\n"
   ]
  },
  {
   "cell_type": "code",
   "execution_count": 107,
   "metadata": {},
   "outputs": [
    {
     "data": {
      "text/plain": [
       "1    1081\n",
       "4    1055\n",
       "3     780\n",
       "2     738\n",
       "0      95\n",
       "Name: y_pred_class, dtype: int64"
      ]
     },
     "execution_count": 107,
     "metadata": {},
     "output_type": "execute_result"
    }
   ],
   "source": [
    "optR=OptimizedRounder()\n",
    "y_true = pd.DataFrame(y_test)\n",
    "y_true.reset_index(inplace=True,drop=False)\n",
    "\n",
    "predictions = optR.predict(y_pred, coefficient_mean).astype(int)\n",
    "pred_nn = pd.concat([pd.DataFrame(y_pred),y_true,pd.DataFrame(predictions)],axis=1,ignore_index=True)\n",
    "pred_nn.columns = ['y_pred_rf','index','y_true','y_pred_class']\n",
    "\n",
    "pred_nn['y_pred_class'].value_counts()"
   ]
  },
  {
   "cell_type": "code",
   "execution_count": 108,
   "metadata": {},
   "outputs": [
    {
     "data": {
      "image/png": "[encoded data removed]",
      "text/plain": [
       "<Figure size 1440x432 with 2 Axes>"
      ]
     },
     "metadata": {
      "needs_background": "light"
     },
     "output_type": "display_data"
    },
    {
     "data": {
      "text/plain": [
       "<Figure size 360x288 with 0 Axes>"
      ]
     },
     "metadata": {},
     "output_type": "display_data"
    },
    {
     "name": "stdout",
     "output_type": "stream",
     "text": [
      "Cohen Kappa: 0.12.\n",
      "Accuracy Score: 0.32%.\n",
      "F1 Score: 0.32%.\n"
     ]
    }
   ],
   "source": [
    "evaluate(pred_nn['y_pred_class'].tolist(), pred_nn['y_true'].tolist())"
   ]
  },
  {
   "cell_type": "markdown",
   "metadata": {},
   "source": [
    "## Combine forecasts predictions "
   ]
  },
  {
   "cell_type": "code",
   "execution_count": 38,
   "metadata": {
    "ExecuteTime": {
     "end_time": "2019-03-05T20:47:06.362484Z",
     "start_time": "2019-03-05T20:47:06.311525Z"
    }
   },
   "outputs": [
    {
     "data": {
      "text/html": [
       "<div>\n",
       "<style scoped>\n",
       "    .dataframe tbody tr th:only-of-type {\n",
       "        vertical-align: middle;\n",
       "    }\n",
       "\n",
       "    .dataframe tbody tr th {\n",
       "        vertical-align: top;\n",
       "    }\n",
       "\n",
       "    .dataframe thead th {\n",
       "        text-align: right;\n",
       "    }\n",
       "</style>\n",
       "<table border=\"1\" class=\"dataframe\">\n",
       "  <thead>\n",
       "    <tr style=\"text-align: right;\">\n",
       "      <th></th>\n",
       "      <th>y_pred_rf</th>\n",
       "      <th>y_pred_xgb</th>\n",
       "      <th>y_pred_lgb</th>\n",
       "      <th>y_true</th>\n",
       "    </tr>\n",
       "  </thead>\n",
       "  <tbody>\n",
       "    <tr>\n",
       "      <th>0</th>\n",
       "      <td>2.726435</td>\n",
       "      <td>2.936038</td>\n",
       "      <td>2.351704</td>\n",
       "      <td>3</td>\n",
       "    </tr>\n",
       "    <tr>\n",
       "      <th>1</th>\n",
       "      <td>1.320000</td>\n",
       "      <td>1.181505</td>\n",
       "      <td>1.567329</td>\n",
       "      <td>1</td>\n",
       "    </tr>\n",
       "    <tr>\n",
       "      <th>2</th>\n",
       "      <td>2.674457</td>\n",
       "      <td>2.806017</td>\n",
       "      <td>1.848804</td>\n",
       "      <td>3</td>\n",
       "    </tr>\n",
       "    <tr>\n",
       "      <th>3</th>\n",
       "      <td>3.293333</td>\n",
       "      <td>3.782236</td>\n",
       "      <td>2.450276</td>\n",
       "      <td>4</td>\n",
       "    </tr>\n",
       "    <tr>\n",
       "      <th>4</th>\n",
       "      <td>1.416831</td>\n",
       "      <td>1.188405</td>\n",
       "      <td>1.837266</td>\n",
       "      <td>1</td>\n",
       "    </tr>\n",
       "  </tbody>\n",
       "</table>\n",
       "</div>"
      ],
      "text/plain": [
       "   y_pred_rf  y_pred_xgb  y_pred_lgb  y_true\n",
       "0   2.726435    2.936038    2.351704       3\n",
       "1   1.320000    1.181505    1.567329       1\n",
       "2   2.674457    2.806017    1.848804       3\n",
       "3   3.293333    3.782236    2.450276       4\n",
       "4   1.416831    1.188405    1.837266       1"
      ]
     },
     "execution_count": 38,
     "metadata": {},
     "output_type": "execute_result"
    }
   ],
   "source": [
    "combination=pd.concat([pred_rf['y_pred_rf'],pred_xgb['y_pred_xgb'],pred_lgb['y_pred_lgb'],pred_lgb['y_true']],axis=1)\n",
    "combination.head()"
   ]
  },
  {
   "cell_type": "code",
   "execution_count": 41,
   "metadata": {
    "ExecuteTime": {
     "end_time": "2019-03-05T21:06:41.018692Z",
     "start_time": "2019-03-05T21:06:40.995727Z"
    }
   },
   "outputs": [
    {
     "data": {
      "text/html": [
       "<div>\n",
       "<style scoped>\n",
       "    .dataframe tbody tr th:only-of-type {\n",
       "        vertical-align: middle;\n",
       "    }\n",
       "\n",
       "    .dataframe tbody tr th {\n",
       "        vertical-align: top;\n",
       "    }\n",
       "\n",
       "    .dataframe thead th {\n",
       "        text-align: right;\n",
       "    }\n",
       "</style>\n",
       "<table border=\"1\" class=\"dataframe\">\n",
       "  <thead>\n",
       "    <tr style=\"text-align: right;\">\n",
       "      <th></th>\n",
       "      <th>y_pred_rf</th>\n",
       "      <th>y_pred_xgb</th>\n",
       "      <th>y_pred_lgb</th>\n",
       "      <th>y_true</th>\n",
       "      <th>new_prediction</th>\n",
       "    </tr>\n",
       "  </thead>\n",
       "  <tbody>\n",
       "    <tr>\n",
       "      <th>0</th>\n",
       "      <td>2.726435</td>\n",
       "      <td>2.936038</td>\n",
       "      <td>2.351704</td>\n",
       "      <td>3</td>\n",
       "      <td>2.671392</td>\n",
       "    </tr>\n",
       "    <tr>\n",
       "      <th>1</th>\n",
       "      <td>1.320000</td>\n",
       "      <td>1.181505</td>\n",
       "      <td>1.567329</td>\n",
       "      <td>1</td>\n",
       "      <td>1.356278</td>\n",
       "    </tr>\n",
       "  </tbody>\n",
       "</table>\n",
       "</div>"
      ],
      "text/plain": [
       "   y_pred_rf  y_pred_xgb  y_pred_lgb  y_true  new_prediction\n",
       "0   2.726435    2.936038    2.351704       3        2.671392\n",
       "1   1.320000    1.181505    1.567329       1        1.356278"
      ]
     },
     "execution_count": 41,
     "metadata": {},
     "output_type": "execute_result"
    }
   ],
   "source": [
    "combination['new_prediction'] = combination[['y_pred_rf','y_pred_xgb','y_pred_lgb']].mean(axis=1)\n",
    "combination.head(2)"
   ]
  },
  {
   "cell_type": "code",
   "execution_count": 43,
   "metadata": {},
   "outputs": [],
   "source": [
    "optR=OptimizedRounder()\n",
    "predictions = optR.predict(combination['new_prediction'], coefficient_mean).astype(int)\n"
   ]
  },
  {
   "cell_type": "code",
   "execution_count": 54,
   "metadata": {},
   "outputs": [
    {
     "data": {
      "text/html": [
       "<div>\n",
       "<style scoped>\n",
       "    .dataframe tbody tr th:only-of-type {\n",
       "        vertical-align: middle;\n",
       "    }\n",
       "\n",
       "    .dataframe tbody tr th {\n",
       "        vertical-align: top;\n",
       "    }\n",
       "\n",
       "    .dataframe thead th {\n",
       "        text-align: right;\n",
       "    }\n",
       "</style>\n",
       "<table border=\"1\" class=\"dataframe\">\n",
       "  <thead>\n",
       "    <tr style=\"text-align: right;\">\n",
       "      <th></th>\n",
       "      <th>y_true</th>\n",
       "      <th>new_predictions</th>\n",
       "      <th>y_pred_class</th>\n",
       "    </tr>\n",
       "  </thead>\n",
       "  <tbody>\n",
       "    <tr>\n",
       "      <th>0</th>\n",
       "      <td>3</td>\n",
       "      <td>2.671392</td>\n",
       "      <td>3</td>\n",
       "    </tr>\n",
       "  </tbody>\n",
       "</table>\n",
       "</div>"
      ],
      "text/plain": [
       "   y_true  new_predictions  y_pred_class\n",
       "0       3         2.671392             3"
      ]
     },
     "execution_count": 54,
     "metadata": {},
     "output_type": "execute_result"
    }
   ],
   "source": [
    "pred_train = pd.concat([combination[['y_true','new_prediction']],pd.DataFrame(predictions)],axis=1,ignore_index=True)\n",
    "pred_train.columns = ['y_true','new_predictions','y_pred_class']\n",
    "\n",
    "pred_train.head(1)"
   ]
  },
  {
   "cell_type": "markdown",
   "metadata": {},
   "source": [
    "## Modelisation Test"
   ]
  },
  {
   "cell_type": "code",
   "execution_count": 94,
   "metadata": {},
   "outputs": [],
   "source": [
    "optR=OptimizedRounder()\n",
    "y_true = pd.DataFrame(y_test)\n",
    "y_true.reset_index(inplace=True,drop=False)\n",
    "\n",
    "#Prediction\n",
    "y_pred_lgb= lgb_model.predict(X_test.values)\n",
    "y_pred_xgb= xgb_model.predict(X_test.values)\n",
    "y_pred_rf = rf_random.predict(X_test.values)"
   ]
  },
  {
   "cell_type": "code",
   "execution_count": 95,
   "metadata": {},
   "outputs": [
    {
     "data": {
      "text/html": [
       "<div>\n",
       "<style scoped>\n",
       "    .dataframe tbody tr th:only-of-type {\n",
       "        vertical-align: middle;\n",
       "    }\n",
       "\n",
       "    .dataframe tbody tr th {\n",
       "        vertical-align: top;\n",
       "    }\n",
       "\n",
       "    .dataframe thead th {\n",
       "        text-align: right;\n",
       "    }\n",
       "</style>\n",
       "<table border=\"1\" class=\"dataframe\">\n",
       "  <thead>\n",
       "    <tr style=\"text-align: right;\">\n",
       "      <th></th>\n",
       "      <th>pred1</th>\n",
       "      <th>pred2</th>\n",
       "      <th>pred3</th>\n",
       "    </tr>\n",
       "  </thead>\n",
       "  <tbody>\n",
       "    <tr>\n",
       "      <th>0</th>\n",
       "      <td>3.023079</td>\n",
       "      <td>3.013515</td>\n",
       "      <td>3.040271</td>\n",
       "    </tr>\n",
       "    <tr>\n",
       "      <th>1</th>\n",
       "      <td>3.536767</td>\n",
       "      <td>3.506704</td>\n",
       "      <td>3.321515</td>\n",
       "    </tr>\n",
       "    <tr>\n",
       "      <th>2</th>\n",
       "      <td>2.038719</td>\n",
       "      <td>2.110562</td>\n",
       "      <td>2.183333</td>\n",
       "    </tr>\n",
       "    <tr>\n",
       "      <th>3</th>\n",
       "      <td>2.170639</td>\n",
       "      <td>2.360432</td>\n",
       "      <td>2.446944</td>\n",
       "    </tr>\n",
       "    <tr>\n",
       "      <th>4</th>\n",
       "      <td>2.307588</td>\n",
       "      <td>2.179204</td>\n",
       "      <td>2.329621</td>\n",
       "    </tr>\n",
       "  </tbody>\n",
       "</table>\n",
       "</div>"
      ],
      "text/plain": [
       "      pred1     pred2     pred3\n",
       "0  3.023079  3.013515  3.040271\n",
       "1  3.536767  3.506704  3.321515\n",
       "2  2.038719  2.110562  2.183333\n",
       "3  2.170639  2.360432  2.446944\n",
       "4  2.307588  2.179204  2.329621"
      ]
     },
     "execution_count": 95,
     "metadata": {},
     "output_type": "execute_result"
    }
   ],
   "source": [
    "test_predict=pd.concat([pd.DataFrame(y_pred_lgb), pd.DataFrame(y_pred_xgb), pd.DataFrame(y_pred_rf)],axis=1)\n",
    "test_predict.columns = ['pred1','pred2','pred3']\n",
    "\n",
    "test_predict.head()"
   ]
  },
  {
   "cell_type": "code",
   "execution_count": 96,
   "metadata": {},
   "outputs": [],
   "source": [
    "test_predict['predn'] = test_predict[['pred1','pred2','pred3']].mean(axis=1)"
   ]
  },
  {
   "cell_type": "code",
   "execution_count": 97,
   "metadata": {},
   "outputs": [],
   "source": [
    "predictions = optR.predict(test_predict['predn'], coefficient_mean).astype(int)"
   ]
  },
  {
   "cell_type": "code",
   "execution_count": 98,
   "metadata": {},
   "outputs": [],
   "source": [
    "test_predict = pd.concat([y_true, test_predict[['predn']], pd.DataFrame(predictions)], axis =1)\n",
    "test_predict.columns = ['index','y_true','predn','y_pred_class']"
   ]
  },
  {
   "cell_type": "code",
   "execution_count": 99,
   "metadata": {},
   "outputs": [
    {
     "data": {
      "text/html": [
       "<div>\n",
       "<style scoped>\n",
       "    .dataframe tbody tr th:only-of-type {\n",
       "        vertical-align: middle;\n",
       "    }\n",
       "\n",
       "    .dataframe tbody tr th {\n",
       "        vertical-align: top;\n",
       "    }\n",
       "\n",
       "    .dataframe thead th {\n",
       "        text-align: right;\n",
       "    }\n",
       "</style>\n",
       "<table border=\"1\" class=\"dataframe\">\n",
       "  <thead>\n",
       "    <tr style=\"text-align: right;\">\n",
       "      <th></th>\n",
       "      <th>index</th>\n",
       "      <th>y_true</th>\n",
       "      <th>predn</th>\n",
       "      <th>y_pred_class</th>\n",
       "    </tr>\n",
       "  </thead>\n",
       "  <tbody>\n",
       "    <tr>\n",
       "      <th>0</th>\n",
       "      <td>11484</td>\n",
       "      <td>0</td>\n",
       "      <td>3.025622</td>\n",
       "      <td>4</td>\n",
       "    </tr>\n",
       "    <tr>\n",
       "      <th>1</th>\n",
       "      <td>12906</td>\n",
       "      <td>4</td>\n",
       "      <td>3.454995</td>\n",
       "      <td>4</td>\n",
       "    </tr>\n",
       "    <tr>\n",
       "      <th>2</th>\n",
       "      <td>8576</td>\n",
       "      <td>4</td>\n",
       "      <td>2.110872</td>\n",
       "      <td>2</td>\n",
       "    </tr>\n",
       "    <tr>\n",
       "      <th>3</th>\n",
       "      <td>13649</td>\n",
       "      <td>4</td>\n",
       "      <td>2.326005</td>\n",
       "      <td>2</td>\n",
       "    </tr>\n",
       "    <tr>\n",
       "      <th>4</th>\n",
       "      <td>9896</td>\n",
       "      <td>3</td>\n",
       "      <td>2.272138</td>\n",
       "      <td>2</td>\n",
       "    </tr>\n",
       "  </tbody>\n",
       "</table>\n",
       "</div>"
      ],
      "text/plain": [
       "   index  y_true     predn  y_pred_class\n",
       "0  11484       0  3.025622             4\n",
       "1  12906       4  3.454995             4\n",
       "2   8576       4  2.110872             2\n",
       "3  13649       4  2.326005             2\n",
       "4   9896       3  2.272138             2"
      ]
     },
     "execution_count": 99,
     "metadata": {},
     "output_type": "execute_result"
    }
   ],
   "source": [
    "test_predict.head()"
   ]
  },
  {
   "cell_type": "code",
   "execution_count": 100,
   "metadata": {},
   "outputs": [
    {
     "data": {
      "image/png": "[encoded data removed]",
      "text/plain": [
       "<Figure size 1440x432 with 2 Axes>"
      ]
     },
     "metadata": {
      "needs_background": "light"
     },
     "output_type": "display_data"
    },
    {
     "data": {
      "text/plain": [
       "<Figure size 360x288 with 0 Axes>"
      ]
     },
     "metadata": {},
     "output_type": "display_data"
    },
    {
     "name": "stdout",
     "output_type": "stream",
     "text": [
      "Cohen Kappa: 0.15.\n",
      "Accuracy Score: 0.36%.\n",
      "F1 Score: 0.36%.\n"
     ]
    }
   ],
   "source": [
    "evaluate(test_predict['y_pred_class'].tolist(), test_predict['y_true'].tolist())"
   ]
  }
 ],
 "metadata": {
  "kernelspec": {
   "display_name": "Python 3",
   "language": "python",
   "name": "python3"
  },
  "language_info": {
   "codemirror_mode": {
    "name": "ipython",
    "version": 3
   },
   "file_extension": ".py",
   "mimetype": "text/x-python",
   "name": "python",
   "nbconvert_exporter": "python",
   "pygments_lexer": "ipython3",
   "version": "3.7.1"
  },
  "toc": {
   "base_numbering": 1,
   "nav_menu": {},
   "number_sections": true,
   "sideBar": false,
   "skip_h1_title": false,
   "title_cell": "Table of Contents",
   "title_sidebar": "Contents",
   "toc_cell": false,
   "toc_position": {
    "height": "470px",
    "left": "81px",
    "top": "111.133px",
    "width": "266px"
   },
   "toc_section_display": true,
   "toc_window_display": true
  },
  "varInspector": {
   "cols": {
    "lenName": 16,
    "lenType": 16,
    "lenVar": 40
   },
   "kernels_config": {
    "python": {
     "delete_cmd_postfix": "",
     "delete_cmd_prefix": "del ",
     "library": "var_list.py",
     "varRefreshCmd": "print(var_dic_list())"
    },
    "r": {
     "delete_cmd_postfix": ") ",
     "delete_cmd_prefix": "rm(",
     "library": "var_list.r",
     "varRefreshCmd": "cat(var_dic_list()) "
    }
   },
   "types_to_exclude": [
    "module",
    "function",
    "builtin_function_or_method",
    "instance",
    "_Feature"
   ],
   "window_display": false
  }
 },
 "nbformat": 4,
 "nbformat_minor": 2
}
